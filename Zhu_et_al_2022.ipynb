{
  "nbformat": 4,
  "nbformat_minor": 0,
  "metadata": {
    "colab": {
      "provenance": [],
      "authorship_tag": "ABX9TyP0ysMpKVttQu9+9Qn8hGSg",
      "include_colab_link": true
    },
    "kernelspec": {
      "name": "python3",
      "display_name": "Python 3"
    },
    "language_info": {
      "name": "python"
    }
  },
  "cells": [
    {
      "cell_type": "markdown",
      "metadata": {
        "id": "view-in-github",
        "colab_type": "text"
      },
      "source": [
        "<a href=\"https://colab.research.google.com/github/AJAV-TIP/ApplicationExample/blob/main/Zhu_et_al_2022.ipynb\" target=\"_parent\"><img src=\"https://colab.research.google.com/assets/colab-badge.svg\" alt=\"Open In Colab\"/></a>"
      ]
    },
    {
      "cell_type": "markdown",
      "source": [
        "#PCT Calculation for La$_{0.5}$Ce$_{0.5}$Ni$_{4}$Co at 20 °C as Reported by (Zhu et al., 2022)"
      ],
      "metadata": {
        "id": "-V2OFm--HJfq"
      }
    },
    {
      "cell_type": "markdown",
      "source": [
        "Import common libraries"
      ],
      "metadata": {
        "id": "pYHikPHdHYJ-"
      }
    },
    {
      "cell_type": "code",
      "execution_count": 5,
      "metadata": {
        "id": "iqtpXq57X45A"
      },
      "outputs": [],
      "source": [
        "import numpy as np\n",
        "import pandas as pd\n",
        "import matplotlib.pylab as plt"
      ]
    },
    {
      "cell_type": "markdown",
      "source": [
        "Import library to retrieve molecular weight and density of constituent elements of the sample"
      ],
      "metadata": {
        "id": "vrETkPJK10ih"
      }
    },
    {
      "cell_type": "code",
      "source": [
        "!pip install periodictable\n",
        "import periodictable"
      ],
      "metadata": {
        "id": "gjLmlnh8Pvw8",
        "colab": {
          "base_uri": "https://localhost:8080/"
        },
        "outputId": "d5340a45-9429-471c-c2dd-16e1f85c8590"
      },
      "execution_count": 2,
      "outputs": [
        {
          "output_type": "stream",
          "name": "stdout",
          "text": [
            "Collecting periodictable\n",
            "  Downloading periodictable-1.7.0.tar.gz (1.0 MB)\n",
            "\u001b[2K     \u001b[90m━━━━━━━━━━━━━━━━━━━━━━━━━━━━━━━━━━━━━━━━\u001b[0m \u001b[32m1.0/1.0 MB\u001b[0m \u001b[31m3.8 MB/s\u001b[0m eta \u001b[36m0:00:00\u001b[0m\n",
            "\u001b[?25h  Preparing metadata (setup.py) ... \u001b[?25l\u001b[?25hdone\n",
            "Requirement already satisfied: pyparsing in /usr/local/lib/python3.10/dist-packages (from periodictable) (3.1.2)\n",
            "Requirement already satisfied: numpy in /usr/local/lib/python3.10/dist-packages (from periodictable) (1.25.2)\n",
            "Building wheels for collected packages: periodictable\n",
            "  Building wheel for periodictable (setup.py) ... \u001b[?25l\u001b[?25hdone\n",
            "  Created wheel for periodictable: filename=periodictable-1.7.0-py3-none-any.whl size=752513 sha256=2d63cea044f0df88223350e85a346424a47ea12194e1a5494a240a5bd780bd5e\n",
            "  Stored in directory: /root/.cache/pip/wheels/7e/19/a2/fef5d0ca2b1ad2b199e863a6e796ad9d5efc86563d80c91a0c\n",
            "Successfully built periodictable\n",
            "Installing collected packages: periodictable\n",
            "Successfully installed periodictable-1.7.0\n"
          ]
        }
      ]
    },
    {
      "cell_type": "markdown",
      "source": [
        "Import library to obtain compressibility factor or other thermodynamic properties from an Equation of State (EoS)"
      ],
      "metadata": {
        "id": "d5O2tOwi2lqx"
      }
    },
    {
      "cell_type": "code",
      "source": [
        "!pip install CoolProp\n",
        "import CoolProp.CoolProp as CP"
      ],
      "metadata": {
        "id": "MB-O8zJLMeI3",
        "colab": {
          "base_uri": "https://localhost:8080/"
        },
        "outputId": "da140242-0c3c-4c1a-e2df-015854337f30"
      },
      "execution_count": 3,
      "outputs": [
        {
          "output_type": "stream",
          "name": "stdout",
          "text": [
            "Collecting CoolProp\n",
            "  Downloading CoolProp-6.6.0-cp310-cp310-manylinux_2_17_x86_64.manylinux2014_x86_64.whl (7.0 MB)\n",
            "\u001b[2K     \u001b[90m━━━━━━━━━━━━━━━━━━━━━━━━━━━━━━━━━━━━━━━━\u001b[0m \u001b[32m7.0/7.0 MB\u001b[0m \u001b[31m15.8 MB/s\u001b[0m eta \u001b[36m0:00:00\u001b[0m\n",
            "\u001b[?25hInstalling collected packages: CoolProp\n",
            "Successfully installed CoolProp-6.6.0\n"
          ]
        }
      ]
    },
    {
      "cell_type": "markdown",
      "source": [
        "  Read pressure sensor data from a CSV file hosted in a public GitHub repository and store it in the objects `Pf` (Final Pressure) and `Pi` (Initial Pressure)"
      ],
      "metadata": {
        "id": "x0MuevXB3bjd"
      }
    },
    {
      "cell_type": "code",
      "source": [
        "url = ('https://raw.githubusercontent.com/AJAV-TIP/ApplicationExample/main/Zhu_et_al_2022.csv')\n",
        "dataframe = pd.read_csv(url)\n",
        "print(dataframe.info())\n",
        "\n",
        "Pf = dataframe['Pf_(MPa)']\n",
        "Pi = dataframe['Pi_(MPa)']\n",
        "\n",
        "dataframe.head(4)"
      ],
      "metadata": {
        "colab": {
          "base_uri": "https://localhost:8080/"
        },
        "id": "HYRWsjTZwnv4",
        "outputId": "92e4133c-de65-4923-9091-e9c408663811"
      },
      "execution_count": 4,
      "outputs": [
        {
          "output_type": "stream",
          "name": "stdout",
          "text": [
            "<class 'pandas.core.frame.DataFrame'>\n",
            "RangeIndex: 24 entries, 0 to 23\n",
            "Data columns (total 2 columns):\n",
            " #   Column    Non-Null Count  Dtype  \n",
            "---  ------    --------------  -----  \n",
            " 0   Pi_(MPa)  24 non-null     float64\n",
            " 1   Pf_(MPa)  24 non-null     float64\n",
            "dtypes: float64(2)\n",
            "memory usage: 512.0 bytes\n",
            "None\n"
          ]
        }
      ]
    },
    {
      "cell_type": "markdown",
      "source": [
        "Declare the elements of the material to be analyzed and retrieve the molecular weights and densities of the elements from the ‘Periodictable’ library.\n",
        "\n"
      ],
      "metadata": {
        "id": "XCydMJk2OZer"
      }
    },
    {
      "cell_type": "code",
      "source": [
        "# List the symbols of the elements in your sample.\n",
        "element_symbols = ['La', 'Ce', 'Ni', 'Co']\n",
        "Mw=[]\n",
        "# Function to retrieve and store molecular weights in the vector.\n",
        "def get_Mw(symbols):\n",
        "    for symbol in symbols:\n",
        "        element = periodictable.elements.symbol(symbol)\n",
        "        Mw.append(element.mass)\n",
        "# Function evaluation\n",
        "get_Mw(element_symbols)\n",
        "\n",
        "rho = []\n",
        "# Function to retrieve and store solid state densities in the vector.\n",
        "def get_rho(symbols):\n",
        "    for symbol in symbols:\n",
        "        element = periodictable.elements.symbol(symbol)\n",
        "        rho.append(element.density)\n",
        "\n",
        "get_rho(element_symbols)\n",
        "\n",
        "# Results of consult at the Periodic table library\n",
        "Mw_H2 = 2*periodictable.elements.symbol('H').mass\n",
        "rho_H = periodictable.elements.symbol('H').density\n",
        "\n",
        "print(\"Elements densities\",rho,\"g/cm^3\")\n",
        "print(\"Molecular weights\",Mw,\"g/mol\")\n",
        "print(\"H density\",rho_H,\"g/cm^3\")\n",
        "print(\"H2 molecular weight\",Mw_H2,\"g/mol\")"
      ],
      "metadata": {
        "id": "N8Eka5uCP0Qw",
        "colab": {
          "base_uri": "https://localhost:8080/"
        },
        "outputId": "4ddb9235-34e3-432c-dcf9-e88fe1a48da8"
      },
      "execution_count": 6,
      "outputs": [
        {
          "output_type": "stream",
          "name": "stdout",
          "text": [
            "Densities [6.145, 6.77, 8.902, 8.9] g/cm^3\n",
            "Molecular weights [138.9055, 140.116, 58.6934, 58.9332] g/mol\n",
            "H density 0.0708 g/cm^3\n",
            "H2 molecular weight 2.01588 g/mol\n"
          ]
        }
      ]
    },
    {
      "cell_type": "markdown",
      "source": [
        "The sample weight is included, along with the coefficients of the elements that make up the sample, and the initial mass fractions are calculated"
      ],
      "metadata": {
        "id": "WU2uQp4BUdLM"
      }
    },
    {
      "cell_type": "code",
      "source": [
        "m_host = 1.6194 # g of sample\n",
        "Mw = np.array(Mw)\n",
        "rho = np.array(rho)\n",
        "Coeff = np.array([0.5, 0.5, 4, 1]) # coefficients of the elements that make up the sample\n",
        "Mw_host = np.dot(Mw,Coeff) # molecular weight of the sample\n",
        "w_i = Mw*Coeff/Mw_host # initial mass fractions"
      ],
      "metadata": {
        "id": "_mqzFfIEUmF6"
      },
      "execution_count": 7,
      "outputs": []
    },
    {
      "cell_type": "markdown",
      "source": [
        "Insert the calibrated volumes"
      ],
      "metadata": {
        "id": "OkLPVDtAYTK4"
      }
    },
    {
      "cell_type": "code",
      "source": [
        "V_rev = 12.098 #Reference volume Z.I\n",
        "V_tube = 8.823 #Tube volume Z.II\n",
        "V_sc = 2.91 # Sample cell volume Z.III"
      ],
      "metadata": {
        "id": "1Z8tGvj9Y0II"
      },
      "execution_count": 8,
      "outputs": []
    },
    {
      "cell_type": "markdown",
      "source": [
        "Insert temperatures"
      ],
      "metadata": {
        "id": "fez2nWwIhdJV"
      }
    },
    {
      "cell_type": "code",
      "source": [
        "T_rev = 298 # Reference  T (K) Z.I\n",
        "T_tube = 298 # Tubes  T (K) Z.I\n",
        "T_sc = 313 # Sample cell  T (K) Z.I"
      ],
      "metadata": {
        "id": "a4tPnrCmhcfu"
      },
      "execution_count": 9,
      "outputs": []
    },
    {
      "cell_type": "markdown",
      "source": [
        "Calculate hydrogen uptake in wt%"
      ],
      "metadata": {
        "id": "2mpfnlrMpImr"
      }
    },
    {
      "cell_type": "code",
      "source": [
        "rho_x = np.zeros(len(Pi))\n",
        "V_DC = np.zeros(len(Pi))\n",
        "m_x = np.zeros(len(Pi))\n",
        "n_sor = np.zeros(len(Pi))\n",
        "X = np.zeros(len(Pi))\n",
        "\n",
        "rho_x[0] = 1/np.sum(np.append(w_i/rho,0)) # density of the sample at initial time Eq. 12 in Zhu et al. 2022\n",
        "\n",
        "for i in range(1,len(Pi)):\n",
        "    V_DC[i] = V_sc-(m_x[i-1]/rho_x[i-1]) # Volumen dead cell Eq. 10 in Zhu et al. 2022\n",
        "\n",
        "    T1 = Pi[i]/((CP.PropsSI('Z', 'T', T_rev , 'P', Pi[i]*1e6, 'Hydrogen'))*T_rev) # Six fraction terms of Eq. 18 in Zhu et al. 2022\n",
        "    T2 = Pf[i]/((CP.PropsSI('Z', 'T', T_rev , 'P', Pf[i]*1e6, 'Hydrogen'))*T_rev)\n",
        "    T3 = Pf[i-1]/((CP.PropsSI('Z', 'T', T_tube , 'P', Pf[i-1]*1e6, 'Hydrogen'))*T_tube)\n",
        "    T4 = Pf[i]/((CP.PropsSI('Z', 'T', T_tube , 'P', Pf[i]*1e6, 'Hydrogen'))*T_tube)\n",
        "    T5 = Pf[i-1]/((CP.PropsSI('Z', 'T', T_sc , 'P', Pf[i-1]*1e6, 'Hydrogen'))*T_sc)\n",
        "    T6 = Pf[i]/((CP.PropsSI('Z', 'T', T_sc , 'P', Pf[i]*1e6, 'Hydrogen'))*T_sc)\n",
        "\n",
        "    n_sor[i] = (T1-T2)*V_rev + (T3-T4)*V_tube + (T5-T6)*V_DC[i] # Number of absorbed moles Eq. 18 in Zhu et al. 2022\n",
        "    m_x[i] = m_host + n_sor[i-1]*Mw_host # Mass of the sample at time i Eq. 11 in Zhu et al. 2022\n",
        "\n",
        "    rho_x[i] = 1/np.sum(np.append((w_i/rho)*m_host/m_x[i],n_sor[i]*Mw_H2/(rho_H*m_x[i]))) # Computational density of the sample Eq. 12 in Zhu et al. 2022\n",
        "    X[i] = n_sor[i]*Mw_H2*100/(m_host+n_sor[i]*Mw_H2) # Gravimetric storage capacity Eq. 19 in Zhu et al. 2022\n",
        "\n",
        "X = pd.DataFrame(X)\n",
        "X"
      ],
      "metadata": {
        "id": "EJkDdpkadhi9",
        "colab": {
          "base_uri": "https://localhost:8080/",
          "height": 801
        },
        "outputId": "75216b0a-3328-48db-c862-35169df140d8"
      },
      "execution_count": 10,
      "outputs": [
        {
          "output_type": "execute_result",
          "data": {
            "text/plain": [
              "           0\n",
              "0   0.000000\n",
              "1   0.011229\n",
              "2   0.013101\n",
              "3   0.018717\n",
              "4   0.026203\n",
              "5   0.031819\n",
              "6   0.043048\n",
              "7   0.058023\n",
              "8   0.074867\n",
              "9   0.095451\n",
              "10  0.134736\n",
              "11  0.282611\n",
              "12  0.531526\n",
              "13  0.767338\n",
              "14  1.012531\n",
              "15  1.210917\n",
              "16  1.330684\n",
              "17  1.386806\n",
              "18  1.405513\n",
              "19  1.418602\n",
              "20  1.431679\n",
              "21  1.440995\n",
              "22  1.446590\n",
              "23  1.450386"
            ],
            "text/html": [
              "\n",
              "  <div id=\"df-c31aa49d-bc99-4937-a9cc-41036d8209cb\" class=\"colab-df-container\">\n",
              "    <div>\n",
              "<style scoped>\n",
              "    .dataframe tbody tr th:only-of-type {\n",
              "        vertical-align: middle;\n",
              "    }\n",
              "\n",
              "    .dataframe tbody tr th {\n",
              "        vertical-align: top;\n",
              "    }\n",
              "\n",
              "    .dataframe thead th {\n",
              "        text-align: right;\n",
              "    }\n",
              "</style>\n",
              "<table border=\"1\" class=\"dataframe\">\n",
              "  <thead>\n",
              "    <tr style=\"text-align: right;\">\n",
              "      <th></th>\n",
              "      <th>0</th>\n",
              "    </tr>\n",
              "  </thead>\n",
              "  <tbody>\n",
              "    <tr>\n",
              "      <th>0</th>\n",
              "      <td>0.000000</td>\n",
              "    </tr>\n",
              "    <tr>\n",
              "      <th>1</th>\n",
              "      <td>0.011229</td>\n",
              "    </tr>\n",
              "    <tr>\n",
              "      <th>2</th>\n",
              "      <td>0.013101</td>\n",
              "    </tr>\n",
              "    <tr>\n",
              "      <th>3</th>\n",
              "      <td>0.018717</td>\n",
              "    </tr>\n",
              "    <tr>\n",
              "      <th>4</th>\n",
              "      <td>0.026203</td>\n",
              "    </tr>\n",
              "    <tr>\n",
              "      <th>5</th>\n",
              "      <td>0.031819</td>\n",
              "    </tr>\n",
              "    <tr>\n",
              "      <th>6</th>\n",
              "      <td>0.043048</td>\n",
              "    </tr>\n",
              "    <tr>\n",
              "      <th>7</th>\n",
              "      <td>0.058023</td>\n",
              "    </tr>\n",
              "    <tr>\n",
              "      <th>8</th>\n",
              "      <td>0.074867</td>\n",
              "    </tr>\n",
              "    <tr>\n",
              "      <th>9</th>\n",
              "      <td>0.095451</td>\n",
              "    </tr>\n",
              "    <tr>\n",
              "      <th>10</th>\n",
              "      <td>0.134736</td>\n",
              "    </tr>\n",
              "    <tr>\n",
              "      <th>11</th>\n",
              "      <td>0.282611</td>\n",
              "    </tr>\n",
              "    <tr>\n",
              "      <th>12</th>\n",
              "      <td>0.531526</td>\n",
              "    </tr>\n",
              "    <tr>\n",
              "      <th>13</th>\n",
              "      <td>0.767338</td>\n",
              "    </tr>\n",
              "    <tr>\n",
              "      <th>14</th>\n",
              "      <td>1.012531</td>\n",
              "    </tr>\n",
              "    <tr>\n",
              "      <th>15</th>\n",
              "      <td>1.210917</td>\n",
              "    </tr>\n",
              "    <tr>\n",
              "      <th>16</th>\n",
              "      <td>1.330684</td>\n",
              "    </tr>\n",
              "    <tr>\n",
              "      <th>17</th>\n",
              "      <td>1.386806</td>\n",
              "    </tr>\n",
              "    <tr>\n",
              "      <th>18</th>\n",
              "      <td>1.405513</td>\n",
              "    </tr>\n",
              "    <tr>\n",
              "      <th>19</th>\n",
              "      <td>1.418602</td>\n",
              "    </tr>\n",
              "    <tr>\n",
              "      <th>20</th>\n",
              "      <td>1.431679</td>\n",
              "    </tr>\n",
              "    <tr>\n",
              "      <th>21</th>\n",
              "      <td>1.440995</td>\n",
              "    </tr>\n",
              "    <tr>\n",
              "      <th>22</th>\n",
              "      <td>1.446590</td>\n",
              "    </tr>\n",
              "    <tr>\n",
              "      <th>23</th>\n",
              "      <td>1.450386</td>\n",
              "    </tr>\n",
              "  </tbody>\n",
              "</table>\n",
              "</div>\n",
              "    <div class=\"colab-df-buttons\">\n",
              "\n",
              "  <div class=\"colab-df-container\">\n",
              "    <button class=\"colab-df-convert\" onclick=\"convertToInteractive('df-c31aa49d-bc99-4937-a9cc-41036d8209cb')\"\n",
              "            title=\"Convert this dataframe to an interactive table.\"\n",
              "            style=\"display:none;\">\n",
              "\n",
              "  <svg xmlns=\"http://www.w3.org/2000/svg\" height=\"24px\" viewBox=\"0 -960 960 960\">\n",
              "    <path d=\"M120-120v-720h720v720H120Zm60-500h600v-160H180v160Zm220 220h160v-160H400v160Zm0 220h160v-160H400v160ZM180-400h160v-160H180v160Zm440 0h160v-160H620v160ZM180-180h160v-160H180v160Zm440 0h160v-160H620v160Z\"/>\n",
              "  </svg>\n",
              "    </button>\n",
              "\n",
              "  <style>\n",
              "    .colab-df-container {\n",
              "      display:flex;\n",
              "      gap: 12px;\n",
              "    }\n",
              "\n",
              "    .colab-df-convert {\n",
              "      background-color: #E8F0FE;\n",
              "      border: none;\n",
              "      border-radius: 50%;\n",
              "      cursor: pointer;\n",
              "      display: none;\n",
              "      fill: #1967D2;\n",
              "      height: 32px;\n",
              "      padding: 0 0 0 0;\n",
              "      width: 32px;\n",
              "    }\n",
              "\n",
              "    .colab-df-convert:hover {\n",
              "      background-color: #E2EBFA;\n",
              "      box-shadow: 0px 1px 2px rgba(60, 64, 67, 0.3), 0px 1px 3px 1px rgba(60, 64, 67, 0.15);\n",
              "      fill: #174EA6;\n",
              "    }\n",
              "\n",
              "    .colab-df-buttons div {\n",
              "      margin-bottom: 4px;\n",
              "    }\n",
              "\n",
              "    [theme=dark] .colab-df-convert {\n",
              "      background-color: #3B4455;\n",
              "      fill: #D2E3FC;\n",
              "    }\n",
              "\n",
              "    [theme=dark] .colab-df-convert:hover {\n",
              "      background-color: #434B5C;\n",
              "      box-shadow: 0px 1px 3px 1px rgba(0, 0, 0, 0.15);\n",
              "      filter: drop-shadow(0px 1px 2px rgba(0, 0, 0, 0.3));\n",
              "      fill: #FFFFFF;\n",
              "    }\n",
              "  </style>\n",
              "\n",
              "    <script>\n",
              "      const buttonEl =\n",
              "        document.querySelector('#df-c31aa49d-bc99-4937-a9cc-41036d8209cb button.colab-df-convert');\n",
              "      buttonEl.style.display =\n",
              "        google.colab.kernel.accessAllowed ? 'block' : 'none';\n",
              "\n",
              "      async function convertToInteractive(key) {\n",
              "        const element = document.querySelector('#df-c31aa49d-bc99-4937-a9cc-41036d8209cb');\n",
              "        const dataTable =\n",
              "          await google.colab.kernel.invokeFunction('convertToInteractive',\n",
              "                                                    [key], {});\n",
              "        if (!dataTable) return;\n",
              "\n",
              "        const docLinkHtml = 'Like what you see? Visit the ' +\n",
              "          '<a target=\"_blank\" href=https://colab.research.google.com/notebooks/data_table.ipynb>data table notebook</a>'\n",
              "          + ' to learn more about interactive tables.';\n",
              "        element.innerHTML = '';\n",
              "        dataTable['output_type'] = 'display_data';\n",
              "        await google.colab.output.renderOutput(dataTable, element);\n",
              "        const docLink = document.createElement('div');\n",
              "        docLink.innerHTML = docLinkHtml;\n",
              "        element.appendChild(docLink);\n",
              "      }\n",
              "    </script>\n",
              "  </div>\n",
              "\n",
              "\n",
              "<div id=\"df-c8fd6886-8a13-4ee9-a2a4-3b7c2989ac75\">\n",
              "  <button class=\"colab-df-quickchart\" onclick=\"quickchart('df-c8fd6886-8a13-4ee9-a2a4-3b7c2989ac75')\"\n",
              "            title=\"Suggest charts\"\n",
              "            style=\"display:none;\">\n",
              "\n",
              "<svg xmlns=\"http://www.w3.org/2000/svg\" height=\"24px\"viewBox=\"0 0 24 24\"\n",
              "     width=\"24px\">\n",
              "    <g>\n",
              "        <path d=\"M19 3H5c-1.1 0-2 .9-2 2v14c0 1.1.9 2 2 2h14c1.1 0 2-.9 2-2V5c0-1.1-.9-2-2-2zM9 17H7v-7h2v7zm4 0h-2V7h2v10zm4 0h-2v-4h2v4z\"/>\n",
              "    </g>\n",
              "</svg>\n",
              "  </button>\n",
              "\n",
              "<style>\n",
              "  .colab-df-quickchart {\n",
              "      --bg-color: #E8F0FE;\n",
              "      --fill-color: #1967D2;\n",
              "      --hover-bg-color: #E2EBFA;\n",
              "      --hover-fill-color: #174EA6;\n",
              "      --disabled-fill-color: #AAA;\n",
              "      --disabled-bg-color: #DDD;\n",
              "  }\n",
              "\n",
              "  [theme=dark] .colab-df-quickchart {\n",
              "      --bg-color: #3B4455;\n",
              "      --fill-color: #D2E3FC;\n",
              "      --hover-bg-color: #434B5C;\n",
              "      --hover-fill-color: #FFFFFF;\n",
              "      --disabled-bg-color: #3B4455;\n",
              "      --disabled-fill-color: #666;\n",
              "  }\n",
              "\n",
              "  .colab-df-quickchart {\n",
              "    background-color: var(--bg-color);\n",
              "    border: none;\n",
              "    border-radius: 50%;\n",
              "    cursor: pointer;\n",
              "    display: none;\n",
              "    fill: var(--fill-color);\n",
              "    height: 32px;\n",
              "    padding: 0;\n",
              "    width: 32px;\n",
              "  }\n",
              "\n",
              "  .colab-df-quickchart:hover {\n",
              "    background-color: var(--hover-bg-color);\n",
              "    box-shadow: 0 1px 2px rgba(60, 64, 67, 0.3), 0 1px 3px 1px rgba(60, 64, 67, 0.15);\n",
              "    fill: var(--button-hover-fill-color);\n",
              "  }\n",
              "\n",
              "  .colab-df-quickchart-complete:disabled,\n",
              "  .colab-df-quickchart-complete:disabled:hover {\n",
              "    background-color: var(--disabled-bg-color);\n",
              "    fill: var(--disabled-fill-color);\n",
              "    box-shadow: none;\n",
              "  }\n",
              "\n",
              "  .colab-df-spinner {\n",
              "    border: 2px solid var(--fill-color);\n",
              "    border-color: transparent;\n",
              "    border-bottom-color: var(--fill-color);\n",
              "    animation:\n",
              "      spin 1s steps(1) infinite;\n",
              "  }\n",
              "\n",
              "  @keyframes spin {\n",
              "    0% {\n",
              "      border-color: transparent;\n",
              "      border-bottom-color: var(--fill-color);\n",
              "      border-left-color: var(--fill-color);\n",
              "    }\n",
              "    20% {\n",
              "      border-color: transparent;\n",
              "      border-left-color: var(--fill-color);\n",
              "      border-top-color: var(--fill-color);\n",
              "    }\n",
              "    30% {\n",
              "      border-color: transparent;\n",
              "      border-left-color: var(--fill-color);\n",
              "      border-top-color: var(--fill-color);\n",
              "      border-right-color: var(--fill-color);\n",
              "    }\n",
              "    40% {\n",
              "      border-color: transparent;\n",
              "      border-right-color: var(--fill-color);\n",
              "      border-top-color: var(--fill-color);\n",
              "    }\n",
              "    60% {\n",
              "      border-color: transparent;\n",
              "      border-right-color: var(--fill-color);\n",
              "    }\n",
              "    80% {\n",
              "      border-color: transparent;\n",
              "      border-right-color: var(--fill-color);\n",
              "      border-bottom-color: var(--fill-color);\n",
              "    }\n",
              "    90% {\n",
              "      border-color: transparent;\n",
              "      border-bottom-color: var(--fill-color);\n",
              "    }\n",
              "  }\n",
              "</style>\n",
              "\n",
              "  <script>\n",
              "    async function quickchart(key) {\n",
              "      const quickchartButtonEl =\n",
              "        document.querySelector('#' + key + ' button');\n",
              "      quickchartButtonEl.disabled = true;  // To prevent multiple clicks.\n",
              "      quickchartButtonEl.classList.add('colab-df-spinner');\n",
              "      try {\n",
              "        const charts = await google.colab.kernel.invokeFunction(\n",
              "            'suggestCharts', [key], {});\n",
              "      } catch (error) {\n",
              "        console.error('Error during call to suggestCharts:', error);\n",
              "      }\n",
              "      quickchartButtonEl.classList.remove('colab-df-spinner');\n",
              "      quickchartButtonEl.classList.add('colab-df-quickchart-complete');\n",
              "    }\n",
              "    (() => {\n",
              "      let quickchartButtonEl =\n",
              "        document.querySelector('#df-c8fd6886-8a13-4ee9-a2a4-3b7c2989ac75 button');\n",
              "      quickchartButtonEl.style.display =\n",
              "        google.colab.kernel.accessAllowed ? 'block' : 'none';\n",
              "    })();\n",
              "  </script>\n",
              "</div>\n",
              "\n",
              "  <div id=\"id_54cc8711-e4c8-454c-9381-1d79af417b8a\">\n",
              "    <style>\n",
              "      .colab-df-generate {\n",
              "        background-color: #E8F0FE;\n",
              "        border: none;\n",
              "        border-radius: 50%;\n",
              "        cursor: pointer;\n",
              "        display: none;\n",
              "        fill: #1967D2;\n",
              "        height: 32px;\n",
              "        padding: 0 0 0 0;\n",
              "        width: 32px;\n",
              "      }\n",
              "\n",
              "      .colab-df-generate:hover {\n",
              "        background-color: #E2EBFA;\n",
              "        box-shadow: 0px 1px 2px rgba(60, 64, 67, 0.3), 0px 1px 3px 1px rgba(60, 64, 67, 0.15);\n",
              "        fill: #174EA6;\n",
              "      }\n",
              "\n",
              "      [theme=dark] .colab-df-generate {\n",
              "        background-color: #3B4455;\n",
              "        fill: #D2E3FC;\n",
              "      }\n",
              "\n",
              "      [theme=dark] .colab-df-generate:hover {\n",
              "        background-color: #434B5C;\n",
              "        box-shadow: 0px 1px 3px 1px rgba(0, 0, 0, 0.15);\n",
              "        filter: drop-shadow(0px 1px 2px rgba(0, 0, 0, 0.3));\n",
              "        fill: #FFFFFF;\n",
              "      }\n",
              "    </style>\n",
              "    <button class=\"colab-df-generate\" onclick=\"generateWithVariable('X')\"\n",
              "            title=\"Generate code using this dataframe.\"\n",
              "            style=\"display:none;\">\n",
              "\n",
              "  <svg xmlns=\"http://www.w3.org/2000/svg\" height=\"24px\"viewBox=\"0 0 24 24\"\n",
              "       width=\"24px\">\n",
              "    <path d=\"M7,19H8.4L18.45,9,17,7.55,7,17.6ZM5,21V16.75L18.45,3.32a2,2,0,0,1,2.83,0l1.4,1.43a1.91,1.91,0,0,1,.58,1.4,1.91,1.91,0,0,1-.58,1.4L9.25,21ZM18.45,9,17,7.55Zm-12,3A5.31,5.31,0,0,0,4.9,8.1,5.31,5.31,0,0,0,1,6.5,5.31,5.31,0,0,0,4.9,4.9,5.31,5.31,0,0,0,6.5,1,5.31,5.31,0,0,0,8.1,4.9,5.31,5.31,0,0,0,12,6.5,5.46,5.46,0,0,0,6.5,12Z\"/>\n",
              "  </svg>\n",
              "    </button>\n",
              "    <script>\n",
              "      (() => {\n",
              "      const buttonEl =\n",
              "        document.querySelector('#id_54cc8711-e4c8-454c-9381-1d79af417b8a button.colab-df-generate');\n",
              "      buttonEl.style.display =\n",
              "        google.colab.kernel.accessAllowed ? 'block' : 'none';\n",
              "\n",
              "      buttonEl.onclick = () => {\n",
              "        google.colab.notebook.generateWithVariable('X');\n",
              "      }\n",
              "      })();\n",
              "    </script>\n",
              "  </div>\n",
              "\n",
              "    </div>\n",
              "  </div>\n"
            ],
            "application/vnd.google.colaboratory.intrinsic+json": {
              "type": "dataframe",
              "variable_name": "X",
              "summary": "{\n  \"name\": \"X\",\n  \"rows\": 24,\n  \"fields\": [\n    {\n      \"column\": 0,\n      \"properties\": {\n        \"dtype\": \"number\",\n        \"std\": 0.6364654204067094,\n        \"min\": 0.0,\n        \"max\": 1.4503863264232333,\n        \"num_unique_values\": 24,\n        \"samples\": [\n          0.07486732774671673,\n          1.3306842748795105,\n          0.0\n        ],\n        \"semantic_type\": \"\",\n        \"description\": \"\"\n      }\n    }\n  ]\n}"
            }
          },
          "metadata": {},
          "execution_count": 10
        }
      ]
    },
    {
      "cell_type": "markdown",
      "source": [
        "Generate plot"
      ],
      "metadata": {
        "id": "E44Fbl4ltVfi"
      }
    },
    {
      "cell_type": "code",
      "source": [
        "fig, ax = plt.subplots()\n",
        "ax.set_xlabel('Hyrogen content $X$ (wt%)')\n",
        "ax.set_ylabel('Pressure, $P$ (MPa)')\n",
        "ax.set_xlim([-0.2,1.7])\n",
        "ax.set_ylim([0.01,10])\n",
        "ax.set_yscale('log')\n",
        "ax.grid(True)\n",
        "\n",
        "ax.plot(X,Pf,'o-',color = 'r', label = '20 °C')\n",
        "ax.legend()\n",
        "ax.set_title('PCI Curve')\n",
        "plt.show()"
      ],
      "metadata": {
        "id": "xTC-YfNGY0ED",
        "colab": {
          "base_uri": "https://localhost:8080/",
          "height": 476
        },
        "outputId": "e28a6aa1-b77a-41ef-8629-2d329ec56f6d"
      },
      "execution_count": 13,
      "outputs": [
        {
          "output_type": "display_data",
          "data": {
            "text/plain": [
              "<Figure size 640x480 with 1 Axes>"
            ],
            "image/png": "[encoded data removed]"
          },
          "metadata": {}
        }
      ]
    },
    {
      "cell_type": "code",
      "source": [],
      "metadata": {
        "id": "zvHwTenQsoQn"
      },
      "execution_count": 11,
      "outputs": []
    }
  ]
}